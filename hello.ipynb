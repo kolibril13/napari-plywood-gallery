{
 "cells": [
  {
   "cell_type": "code",
   "execution_count": 5,
   "metadata": {},
   "outputs": [
    {
     "name": "stdout",
     "output_type": "stream",
     "text": [
      "This path and all its child elements will be removed:/Users/jan-hendrik/projects/plywood-gallery-napari-test/gallery_assets\n"
     ]
    }
   ],
   "source": [
    "from plywood_gallery import ChapterManager\n",
    "ChapterManager.generate_json()\n",
    "ChapterManager.clean_all(skip_warning=True)\n",
    "ChapterManager.reset_counter()\n",
    "ChapterManager.set_chapter_name(\"Napari Overview\")"
   ]
  },
  {
   "cell_type": "code",
   "execution_count": 6,
   "metadata": {},
   "outputs": [
    {
     "name": "stderr",
     "output_type": "stream",
     "text": [
      "2022-01-11 10:00:49.419 Python[5391:131232] ApplePersistenceIgnoreState: Existing state will not be touched. New state will be written to /var/folders/c3/3bzrl3qx043bknt1ycn3fcym0000gn/T/org.python.python.savedState\n"
     ]
    },
    {
     "data": {
      "text/plain": [
       "(0.0, 1.0, 0.0, 1.0)"
      ]
     },
     "metadata": {},
     "output_type": "display_data"
    },
    {
     "data": {
      "image/png": "[encoded data removed]",
      "text/plain": [
       "<Figure size 360x360 with 1 Axes>"
      ]
     },
     "metadata": {},
     "output_type": "display_data"
    }
   ],
   "source": [
    "%%capture_png -p Template.png --celltype Header --style \"width:140px\"\n",
    "import matplotlib.pyplot as plt\n",
    "import napari\n",
    "import numpy as np\n",
    "import scipy\n",
    "from scipy import ndimage as ndi\n",
    "from skimage import data\n",
    "try:\n",
    "    viewer\n",
    "except NameError:\n",
    "    viewer = napari.Viewer()\n",
    "    viewer.theme = \"light\"\n",
    "    viewer.dims.ndisplay = 3\n",
    "\n",
    "def make_screenshot(viewer):\n",
    "    img = viewer.screenshot(canvas_only=True, flash= False)\n",
    "    plt.imshow(img)\n",
    "    plt.axis(\"off\")\n",
    "\n",
    "# make data\n",
    "blobs = data.binary_blobs(length=301, volume_fraction=0.1, n_dim=3, seed=42)\n",
    "blobs  = blobs[200:,200:, :-100]\n",
    "blobs[:,:,:50]=1\n",
    "\n",
    "import matplotlib.pyplot as plt #NOT\n",
    "fix, ax = plt.subplots(figsize=(5,5), facecolor=\"#F7F5F3\") #NOT\n",
    "text_kwargs = dict(ha=\"center\", va=\"center\", fontsize=70, color=\"#ED6A5A\") #NOT\n",
    "ax.text(0.5, 0.5, \"Header\",**text_kwargs) #NOT\n",
    "ax.axis(\"off\"); #NOT\n"
   ]
  },
  {
   "cell_type": "code",
   "execution_count": 9,
   "metadata": {},
   "outputs": [
    {
     "data": {
      "image/png": "[encoded data removed]",
      "text/plain": [
       "<Figure size 432x288 with 1 Axes>"
      ]
     },
     "metadata": {
      "needs_background": "light"
     },
     "output_type": "display_data"
    }
   ],
   "source": [
    "%%capture_png -p Template.png --celltype Normal --style \"width:140px\"\n",
    "\n",
    "viewer.reset_view()\n",
    "viewer.layers.clear()\n",
    "#layer1 = viewer.add_labels(blobs, name=\"layer1\", seed=0.03)\n",
    "layer1 = viewer.add_image(blobs, name=\"layer1\")\n",
    "\n",
    "layer1.opacity = 1\n",
    "make_screenshot(viewer)"
   ]
  },
  {
   "cell_type": "code",
   "execution_count": 5,
   "metadata": {},
   "outputs": [
    {
     "name": "stdout",
     "output_type": "stream",
     "text": [
      "gallery_assets/Napari_Overview_001_Template.png\n",
      "gallery_assets/Napari_Overview_002_Template.png\n",
      "gallery_assets/Napari_Overview_003_Template.png\n"
     ]
    }
   ],
   "source": [
    "ChapterManager.clean(\"Napari Overview\")"
   ]
  },
  {
   "cell_type": "code",
   "execution_count": 47,
   "metadata": {},
   "outputs": [
    {
     "ename": "AttributeError",
     "evalue": "'function' object has no attribute 'reset'",
     "output_type": "error",
     "traceback": [
      "\u001b[0;31m---------------------------------------------------------------------------\u001b[0m",
      "\u001b[0;31mAttributeError\u001b[0m                            Traceback (most recent call last)",
      "\u001b[0;32m/var/folders/c3/3bzrl3qx043bknt1ycn3fcym0000gn/T/ipykernel_5391/1519379341.py\u001b[0m in \u001b[0;36m<module>\u001b[0;34m\u001b[0m\n\u001b[1;32m      1\u001b[0m \u001b[0;32mfrom\u001b[0m \u001b[0mnapari\u001b[0m\u001b[0;34m.\u001b[0m\u001b[0msettings\u001b[0m \u001b[0;32mimport\u001b[0m \u001b[0mget_settings\u001b[0m\u001b[0;34m\u001b[0m\u001b[0;34m\u001b[0m\u001b[0m\n\u001b[1;32m      2\u001b[0m \u001b[0;34m\u001b[0m\u001b[0m\n\u001b[0;32m----> 3\u001b[0;31m \u001b[0mget_settings\u001b[0m\u001b[0;34m.\u001b[0m\u001b[0mreset\u001b[0m\u001b[0;34m(\u001b[0m\u001b[0;34m)\u001b[0m\u001b[0;34m\u001b[0m\u001b[0;34m\u001b[0m\u001b[0m\n\u001b[0m",
      "\u001b[0;31mAttributeError\u001b[0m: 'function' object has no attribute 'reset'"
     ]
    }
   ],
   "source": [
    "from napari.settings import get_settings\n"
   ]
  },
  {
   "cell_type": "code",
   "execution_count": 44,
   "metadata": {},
   "outputs": [],
   "source": [
    "from napari.settings import get_settings\n",
    "\n",
    "get_settings().application.window_position = (900,300)\n",
    "get_settings().application.window_size = (200,200)\n",
    "get_settings().application.window_fullscreen = False\n",
    "get_settings().application.window_statusbar =  False\n",
    "get_settings().application.save_window_state =  True"
   ]
  },
  {
   "cell_type": "code",
   "execution_count": 45,
   "metadata": {},
   "outputs": [],
   "source": [
    "viewer = napari.Viewer()"
   ]
  },
  {
   "cell_type": "code",
   "execution_count": 46,
   "metadata": {},
   "outputs": [
    {
     "data": {
      "text/plain": [
       "NapariSettings (defaults excluded)\n",
       "----------------------------------\n",
       "appearance:\n",
       "  theme: light\n",
       "application:\n",
       "  first_time: false\n",
       "  save_window_state: true\n",
       "  window_position:\n",
       "  - 900\n",
       "  - 300\n",
       "  window_size:\n",
       "  - 200\n",
       "  - 200\n",
       "  window_state: '!QBYTE_AAAA/wAAAAD9AAAAAgAAAAAAAAECAAACxvwCAAAAAvsAAAAcAGwAYQB5AGUAcgAgAGMAbwBuAHQAcgBvAGwAcwAAAAAAAAABSQAAAUkAAAFJ+wAAABQAbABhAHkAZQByACAAbABpAHMAdAAAAAAAAAACxgAAALcA////AAAAAwAAAAAAAAAA/AEAAAAB+wAAAA4AYwBvAG4AcwBvAGwAZQAAAAAA/////wAAADIA////AAACZgAAAhgAAAAEAAAABAAAAAgAAAAI/AAAAAA='\n",
       "  window_statusbar: false"
      ]
     },
     "execution_count": 46,
     "metadata": {},
     "output_type": "execute_result"
    }
   ],
   "source": [
    "from napari.settings import get_settings\n",
    "\n",
    "get_settings()"
   ]
  },
  {
   "cell_type": "code",
   "execution_count": null,
   "metadata": {},
   "outputs": [],
   "source": []
  }
 ],
 "metadata": {
  "kernelspec": {
   "display_name": "Python 3",
   "language": "python",
   "name": "python3"
  },
  "language_info": {
   "codemirror_mode": {
    "name": "ipython",
    "version": 3
   },
   "file_extension": ".py",
   "mimetype": "text/x-python",
   "name": "python",
   "nbconvert_exporter": "python",
   "pygments_lexer": "ipython3",
   "version": "3.9.5"
  }
 },
 "nbformat": 4,
 "nbformat_minor": 4
}
