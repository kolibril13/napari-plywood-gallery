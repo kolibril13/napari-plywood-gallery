{
 "cells": [
  {
   "cell_type": "code",
   "execution_count": 2,
   "metadata": {},
   "outputs": [
    {
     "name": "stdout",
     "output_type": "stream",
     "text": [
      "Sucessfuly created /Users/jan-hendrik/projects/napari-plywood-gallery/index.html\n"
     ]
    }
   ],
   "source": [
    "from pathlib import Path\n",
    "from plywood_gallery import load_jinja2_template\n",
    "\n",
    "template = load_jinja2_template()\n",
    "index_file = Path.cwd() / \"index.html\"\n",
    "\n",
    "\n",
    "with open(index_file, \"w\") as fh:\n",
    "    fh.write(\n",
    "        template.render(\n",
    "            project_name=\"Napari Plywood Gallery\",\n",
    "            repository_url=\"https://github.com/kolibril13/napari-plywood-gallery\",\n",
    "            favicon = \"icon.png\",\n",
    "            custom_footer=\"\"\"\"\"\",\n",
    "        )\n",
    "    )\n",
    "    print(f\"Sucessfuly created {index_file}\")\n"
   ]
  },
  {
   "cell_type": "code",
   "execution_count": null,
   "metadata": {},
   "outputs": [],
   "source": []
  }
 ],
 "metadata": {
  "interpreter": {
   "hash": "2952ffede85d5ee814e7d7d53bb189c2d6659c3837bb58400800b4ce3939b697"
  },
  "kernelspec": {
   "display_name": "Python 3.9.10 ('plywood_gallery_env': venv)",
   "language": "python",
   "name": "python3"
  },
  "language_info": {
   "codemirror_mode": {
    "name": "ipython",
    "version": 3
   },
   "file_extension": ".py",
   "mimetype": "text/x-python",
   "name": "python",
   "nbconvert_exporter": "python",
   "pygments_lexer": "ipython3",
   "version": "3.9.10"
  },
  "orig_nbformat": 4
 },
 "nbformat": 4,
 "nbformat_minor": 2
}
